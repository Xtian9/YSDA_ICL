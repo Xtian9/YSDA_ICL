{
 "metadata": {
  "name": "",
  "signature": "sha256:bdbe9bc6ce018f4f88e8989ac4eeb48b1bc3025a38d0a9056a2e5b03c8ebf0c4"
 },
 "nbformat": 3,
 "nbformat_minor": 0,
 "worksheets": [
  {
   "cells": [
    {
     "cell_type": "markdown",
     "metadata": {},
     "source": [
      "# First hometask\n",
      "### First code in IPython\n",
      "\n",
      "Just to make sure it works:"
     ]
    },
    {
     "cell_type": "code",
     "collapsed": false,
     "input": [
      "1 + 2"
     ],
     "language": "python",
     "metadata": {},
     "outputs": [
      {
       "metadata": {},
       "output_type": "pyout",
       "prompt_number": 1,
       "text": [
        "3"
       ]
      }
     ],
     "prompt_number": 1
    },
    {
     "cell_type": "markdown",
     "metadata": {},
     "source": [
      "# Practical problem. Analysis of Titanic's data\n",
      "## Before proceeding, you need to download <a href='https://www.kaggle.com/c/titanic-gettingStarted/data'>dataset</a> from kaggle\n",
      "Procede when you download `train.csv`. This will require registration, but you'll need this account at kaggle in further hometasks.\n",
      "\n"
     ]
    },
    {
     "cell_type": "markdown",
     "metadata": {},
     "source": [
      "Below we have __magic cell__ (that's a term), which enables inline plotting. "
     ]
    },
    {
     "cell_type": "code",
     "collapsed": false,
     "input": [
      "%pylab inline"
     ],
     "language": "python",
     "metadata": {},
     "outputs": [
      {
       "output_type": "stream",
       "stream": "stdout",
       "text": [
        "Populating the interactive namespace from numpy and matplotlib\n"
       ]
      }
     ],
     "prompt_number": 2
    },
    {
     "cell_type": "markdown",
     "metadata": {},
     "source": [
      "Let's check that plotting works"
     ]
    },
    {
     "cell_type": "code",
     "collapsed": false,
     "input": [
      "plot(range(5), range(5, 10))"
     ],
     "language": "python",
     "metadata": {},
     "outputs": [
      {
       "metadata": {},
       "output_type": "pyout",
       "prompt_number": 3,
       "text": [
        "[<matplotlib.lines.Line2D at 0x7fe0fbbd92d0>]"
       ]
      },
      {
       "metadata": {},
       "output_type": "display_data",
       "png": "[encoded data removed]",
       "text": [
        "<matplotlib.figure.Figure at 0x7fe0fc49aa90>"
       ]
      }
     ],
     "prompt_number": 3
    },
    {
     "cell_type": "markdown",
     "metadata": {},
     "source": [
      "## Pandas is library for in-memory data processing, very convenient for data analysis\n",
      "Let's read the data you've downloaded"
     ]
    },
    {
     "cell_type": "code",
     "collapsed": false,
     "input": [
      "import pandas\n",
      "data = pandas.read_csv('train.csv')"
     ],
     "language": "python",
     "metadata": {},
     "outputs": [],
     "prompt_number": 4
    },
    {
     "cell_type": "markdown",
     "metadata": {},
     "source": [
      "### take first 10 rows"
     ]
    },
    {
     "cell_type": "code",
     "collapsed": false,
     "input": [
      "data[:10]"
     ],
     "language": "python",
     "metadata": {},
     "outputs": [
      {
       "html": [
        "<div style=\"max-height:1000px;max-width:1500px;overflow:auto;\">\n",
        "<table border=\"1\" class=\"dataframe\">\n",
        "  <thead>\n",
        "    <tr style=\"text-align: right;\">\n",
        "      <th></th>\n",
        "      <th>PassengerId</th>\n",
        "      <th>Survived</th>\n",
        "      <th>Pclass</th>\n",
        "      <th>Name</th>\n",
        "      <th>Sex</th>\n",
        "      <th>Age</th>\n",
        "      <th>SibSp</th>\n",
        "      <th>Parch</th>\n",
        "      <th>Ticket</th>\n",
        "      <th>Fare</th>\n",
        "      <th>Cabin</th>\n",
        "      <th>Embarked</th>\n",
        "    </tr>\n",
        "  </thead>\n",
        "  <tbody>\n",
        "    <tr>\n",
        "      <th>0</th>\n",
        "      <td>  1</td>\n",
        "      <td> 0</td>\n",
        "      <td> 3</td>\n",
        "      <td>                           Braund, Mr. Owen Harris</td>\n",
        "      <td>   male</td>\n",
        "      <td> 22</td>\n",
        "      <td> 1</td>\n",
        "      <td> 0</td>\n",
        "      <td>        A/5 21171</td>\n",
        "      <td>  7.2500</td>\n",
        "      <td>  NaN</td>\n",
        "      <td> S</td>\n",
        "    </tr>\n",
        "    <tr>\n",
        "      <th>1</th>\n",
        "      <td>  2</td>\n",
        "      <td> 1</td>\n",
        "      <td> 1</td>\n",
        "      <td> Cumings, Mrs. John Bradley (Florence Briggs Th...</td>\n",
        "      <td> female</td>\n",
        "      <td> 38</td>\n",
        "      <td> 1</td>\n",
        "      <td> 0</td>\n",
        "      <td>         PC 17599</td>\n",
        "      <td> 71.2833</td>\n",
        "      <td>  C85</td>\n",
        "      <td> C</td>\n",
        "    </tr>\n",
        "    <tr>\n",
        "      <th>2</th>\n",
        "      <td>  3</td>\n",
        "      <td> 1</td>\n",
        "      <td> 3</td>\n",
        "      <td>                            Heikkinen, Miss. Laina</td>\n",
        "      <td> female</td>\n",
        "      <td> 26</td>\n",
        "      <td> 0</td>\n",
        "      <td> 0</td>\n",
        "      <td> STON/O2. 3101282</td>\n",
        "      <td>  7.9250</td>\n",
        "      <td>  NaN</td>\n",
        "      <td> S</td>\n",
        "    </tr>\n",
        "    <tr>\n",
        "      <th>3</th>\n",
        "      <td>  4</td>\n",
        "      <td> 1</td>\n",
        "      <td> 1</td>\n",
        "      <td>      Futrelle, Mrs. Jacques Heath (Lily May Peel)</td>\n",
        "      <td> female</td>\n",
        "      <td> 35</td>\n",
        "      <td> 1</td>\n",
        "      <td> 0</td>\n",
        "      <td>           113803</td>\n",
        "      <td> 53.1000</td>\n",
        "      <td> C123</td>\n",
        "      <td> S</td>\n",
        "    </tr>\n",
        "    <tr>\n",
        "      <th>4</th>\n",
        "      <td>  5</td>\n",
        "      <td> 0</td>\n",
        "      <td> 3</td>\n",
        "      <td>                          Allen, Mr. William Henry</td>\n",
        "      <td>   male</td>\n",
        "      <td> 35</td>\n",
        "      <td> 0</td>\n",
        "      <td> 0</td>\n",
        "      <td>           373450</td>\n",
        "      <td>  8.0500</td>\n",
        "      <td>  NaN</td>\n",
        "      <td> S</td>\n",
        "    </tr>\n",
        "    <tr>\n",
        "      <th>5</th>\n",
        "      <td>  6</td>\n",
        "      <td> 0</td>\n",
        "      <td> 3</td>\n",
        "      <td>                                  Moran, Mr. James</td>\n",
        "      <td>   male</td>\n",
        "      <td>NaN</td>\n",
        "      <td> 0</td>\n",
        "      <td> 0</td>\n",
        "      <td>           330877</td>\n",
        "      <td>  8.4583</td>\n",
        "      <td>  NaN</td>\n",
        "      <td> Q</td>\n",
        "    </tr>\n",
        "    <tr>\n",
        "      <th>6</th>\n",
        "      <td>  7</td>\n",
        "      <td> 0</td>\n",
        "      <td> 1</td>\n",
        "      <td>                           McCarthy, Mr. Timothy J</td>\n",
        "      <td>   male</td>\n",
        "      <td> 54</td>\n",
        "      <td> 0</td>\n",
        "      <td> 0</td>\n",
        "      <td>            17463</td>\n",
        "      <td> 51.8625</td>\n",
        "      <td>  E46</td>\n",
        "      <td> S</td>\n",
        "    </tr>\n",
        "    <tr>\n",
        "      <th>7</th>\n",
        "      <td>  8</td>\n",
        "      <td> 0</td>\n",
        "      <td> 3</td>\n",
        "      <td>                    Palsson, Master. Gosta Leonard</td>\n",
        "      <td>   male</td>\n",
        "      <td>  2</td>\n",
        "      <td> 3</td>\n",
        "      <td> 1</td>\n",
        "      <td>           349909</td>\n",
        "      <td> 21.0750</td>\n",
        "      <td>  NaN</td>\n",
        "      <td> S</td>\n",
        "    </tr>\n",
        "    <tr>\n",
        "      <th>8</th>\n",
        "      <td>  9</td>\n",
        "      <td> 1</td>\n",
        "      <td> 3</td>\n",
        "      <td> Johnson, Mrs. Oscar W (Elisabeth Vilhelmina Berg)</td>\n",
        "      <td> female</td>\n",
        "      <td> 27</td>\n",
        "      <td> 0</td>\n",
        "      <td> 2</td>\n",
        "      <td>           347742</td>\n",
        "      <td> 11.1333</td>\n",
        "      <td>  NaN</td>\n",
        "      <td> S</td>\n",
        "    </tr>\n",
        "    <tr>\n",
        "      <th>9</th>\n",
        "      <td> 10</td>\n",
        "      <td> 1</td>\n",
        "      <td> 2</td>\n",
        "      <td>               Nasser, Mrs. Nicholas (Adele Achem)</td>\n",
        "      <td> female</td>\n",
        "      <td> 14</td>\n",
        "      <td> 1</td>\n",
        "      <td> 0</td>\n",
        "      <td>           237736</td>\n",
        "      <td> 30.0708</td>\n",
        "      <td>  NaN</td>\n",
        "      <td> C</td>\n",
        "    </tr>\n",
        "  </tbody>\n",
        "</table>\n",
        "</div>"
       ],
       "metadata": {},
       "output_type": "pyout",
       "prompt_number": 5,
       "text": [
        "   PassengerId  Survived  Pclass  \\\n",
        "0            1         0       3   \n",
        "1            2         1       1   \n",
        "2            3         1       3   \n",
        "3            4         1       1   \n",
        "4            5         0       3   \n",
        "5            6         0       3   \n",
        "6            7         0       1   \n",
        "7            8         0       3   \n",
        "8            9         1       3   \n",
        "9           10         1       2   \n",
        "\n",
        "                                                Name     Sex  Age  SibSp  \\\n",
        "0                            Braund, Mr. Owen Harris    male   22      1   \n",
        "1  Cumings, Mrs. John Bradley (Florence Briggs Th...  female   38      1   \n",
        "2                             Heikkinen, Miss. Laina  female   26      0   \n",
        "3       Futrelle, Mrs. Jacques Heath (Lily May Peel)  female   35      1   \n",
        "4                           Allen, Mr. William Henry    male   35      0   \n",
        "5                                   Moran, Mr. James    male  NaN      0   \n",
        "6                            McCarthy, Mr. Timothy J    male   54      0   \n",
        "7                     Palsson, Master. Gosta Leonard    male    2      3   \n",
        "8  Johnson, Mrs. Oscar W (Elisabeth Vilhelmina Berg)  female   27      0   \n",
        "9                Nasser, Mrs. Nicholas (Adele Achem)  female   14      1   \n",
        "\n",
        "   Parch            Ticket     Fare Cabin Embarked  \n",
        "0      0         A/5 21171   7.2500   NaN        S  \n",
        "1      0          PC 17599  71.2833   C85        C  \n",
        "2      0  STON/O2. 3101282   7.9250   NaN        S  \n",
        "3      0            113803  53.1000  C123        S  \n",
        "4      0            373450   8.0500   NaN        S  \n",
        "5      0            330877   8.4583   NaN        Q  \n",
        "6      0             17463  51.8625   E46        S  \n",
        "7      1            349909  21.0750   NaN        S  \n",
        "8      2            347742  11.1333   NaN        S  \n",
        "9      0            237736  30.0708   NaN        C  "
       ]
      }
     ],
     "prompt_number": 5
    },
    {
     "cell_type": "markdown",
     "metadata": {},
     "source": [
      "### take Parch column (and first 10 elements from it)"
     ]
    },
    {
     "cell_type": "code",
     "collapsed": false,
     "input": [
      "data['Parch'][:10]"
     ],
     "language": "python",
     "metadata": {},
     "outputs": [
      {
       "metadata": {},
       "output_type": "pyout",
       "prompt_number": 6,
       "text": [
        "0    0\n",
        "1    0\n",
        "2    0\n",
        "3    0\n",
        "4    0\n",
        "5    0\n",
        "6    0\n",
        "7    1\n",
        "8    2\n",
        "9    0\n",
        "Name: Parch, dtype: int64"
       ]
      }
     ],
     "prompt_number": 6
    },
    {
     "cell_type": "markdown",
     "metadata": {},
     "source": [
      "### take passengers that embarked at Cherbourg with fare > 200\n",
      "make sure you understand how it is computed"
     ]
    },
    {
     "cell_type": "code",
     "collapsed": false,
     "input": [
      "data[(data['Embarked'] == 'C') & (data['Fare'] > 200)]"
     ],
     "language": "python",
     "metadata": {},
     "outputs": [
      {
       "html": [
        "<div style=\"max-height:1000px;max-width:1500px;overflow:auto;\">\n",
        "<table border=\"1\" class=\"dataframe\">\n",
        "  <thead>\n",
        "    <tr style=\"text-align: right;\">\n",
        "      <th></th>\n",
        "      <th>PassengerId</th>\n",
        "      <th>Survived</th>\n",
        "      <th>Pclass</th>\n",
        "      <th>Name</th>\n",
        "      <th>Sex</th>\n",
        "      <th>Age</th>\n",
        "      <th>SibSp</th>\n",
        "      <th>Parch</th>\n",
        "      <th>Ticket</th>\n",
        "      <th>Fare</th>\n",
        "      <th>Cabin</th>\n",
        "      <th>Embarked</th>\n",
        "    </tr>\n",
        "  </thead>\n",
        "  <tbody>\n",
        "    <tr>\n",
        "      <th>118</th>\n",
        "      <td> 119</td>\n",
        "      <td> 0</td>\n",
        "      <td> 1</td>\n",
        "      <td>                          Baxter, Mr. Quigg Edmond</td>\n",
        "      <td>   male</td>\n",
        "      <td> 24</td>\n",
        "      <td> 0</td>\n",
        "      <td> 1</td>\n",
        "      <td> PC 17558</td>\n",
        "      <td> 247.5208</td>\n",
        "      <td>         B58 B60</td>\n",
        "      <td> C</td>\n",
        "    </tr>\n",
        "    <tr>\n",
        "      <th>258</th>\n",
        "      <td> 259</td>\n",
        "      <td> 1</td>\n",
        "      <td> 1</td>\n",
        "      <td>                                  Ward, Miss. Anna</td>\n",
        "      <td> female</td>\n",
        "      <td> 35</td>\n",
        "      <td> 0</td>\n",
        "      <td> 0</td>\n",
        "      <td> PC 17755</td>\n",
        "      <td> 512.3292</td>\n",
        "      <td>             NaN</td>\n",
        "      <td> C</td>\n",
        "    </tr>\n",
        "    <tr>\n",
        "      <th>299</th>\n",
        "      <td> 300</td>\n",
        "      <td> 1</td>\n",
        "      <td> 1</td>\n",
        "      <td>   Baxter, Mrs. James (Helene DeLaudeniere Chaput)</td>\n",
        "      <td> female</td>\n",
        "      <td> 50</td>\n",
        "      <td> 0</td>\n",
        "      <td> 1</td>\n",
        "      <td> PC 17558</td>\n",
        "      <td> 247.5208</td>\n",
        "      <td>         B58 B60</td>\n",
        "      <td> C</td>\n",
        "    </tr>\n",
        "    <tr>\n",
        "      <th>311</th>\n",
        "      <td> 312</td>\n",
        "      <td> 1</td>\n",
        "      <td> 1</td>\n",
        "      <td>                        Ryerson, Miss. Emily Borie</td>\n",
        "      <td> female</td>\n",
        "      <td> 18</td>\n",
        "      <td> 2</td>\n",
        "      <td> 2</td>\n",
        "      <td> PC 17608</td>\n",
        "      <td> 262.3750</td>\n",
        "      <td> B57 B59 B63 B66</td>\n",
        "      <td> C</td>\n",
        "    </tr>\n",
        "    <tr>\n",
        "      <th>377</th>\n",
        "      <td> 378</td>\n",
        "      <td> 0</td>\n",
        "      <td> 1</td>\n",
        "      <td>                         Widener, Mr. Harry Elkins</td>\n",
        "      <td>   male</td>\n",
        "      <td> 27</td>\n",
        "      <td> 0</td>\n",
        "      <td> 2</td>\n",
        "      <td>   113503</td>\n",
        "      <td> 211.5000</td>\n",
        "      <td>             C82</td>\n",
        "      <td> C</td>\n",
        "    </tr>\n",
        "    <tr>\n",
        "      <th>380</th>\n",
        "      <td> 381</td>\n",
        "      <td> 1</td>\n",
        "      <td> 1</td>\n",
        "      <td>                             Bidois, Miss. Rosalie</td>\n",
        "      <td> female</td>\n",
        "      <td> 42</td>\n",
        "      <td> 0</td>\n",
        "      <td> 0</td>\n",
        "      <td> PC 17757</td>\n",
        "      <td> 227.5250</td>\n",
        "      <td>             NaN</td>\n",
        "      <td> C</td>\n",
        "    </tr>\n",
        "    <tr>\n",
        "      <th>557</th>\n",
        "      <td> 558</td>\n",
        "      <td> 0</td>\n",
        "      <td> 1</td>\n",
        "      <td>                               Robbins, Mr. Victor</td>\n",
        "      <td>   male</td>\n",
        "      <td>NaN</td>\n",
        "      <td> 0</td>\n",
        "      <td> 0</td>\n",
        "      <td> PC 17757</td>\n",
        "      <td> 227.5250</td>\n",
        "      <td>             NaN</td>\n",
        "      <td> C</td>\n",
        "    </tr>\n",
        "    <tr>\n",
        "      <th>679</th>\n",
        "      <td> 680</td>\n",
        "      <td> 1</td>\n",
        "      <td> 1</td>\n",
        "      <td>                Cardeza, Mr. Thomas Drake Martinez</td>\n",
        "      <td>   male</td>\n",
        "      <td> 36</td>\n",
        "      <td> 0</td>\n",
        "      <td> 1</td>\n",
        "      <td> PC 17755</td>\n",
        "      <td> 512.3292</td>\n",
        "      <td>     B51 B53 B55</td>\n",
        "      <td> C</td>\n",
        "    </tr>\n",
        "    <tr>\n",
        "      <th>700</th>\n",
        "      <td> 701</td>\n",
        "      <td> 1</td>\n",
        "      <td> 1</td>\n",
        "      <td> Astor, Mrs. John Jacob (Madeleine Talmadge Force)</td>\n",
        "      <td> female</td>\n",
        "      <td> 18</td>\n",
        "      <td> 1</td>\n",
        "      <td> 0</td>\n",
        "      <td> PC 17757</td>\n",
        "      <td> 227.5250</td>\n",
        "      <td>         C62 C64</td>\n",
        "      <td> C</td>\n",
        "    </tr>\n",
        "    <tr>\n",
        "      <th>716</th>\n",
        "      <td> 717</td>\n",
        "      <td> 1</td>\n",
        "      <td> 1</td>\n",
        "      <td>                     Endres, Miss. Caroline Louise</td>\n",
        "      <td> female</td>\n",
        "      <td> 38</td>\n",
        "      <td> 0</td>\n",
        "      <td> 0</td>\n",
        "      <td> PC 17757</td>\n",
        "      <td> 227.5250</td>\n",
        "      <td>             C45</td>\n",
        "      <td> C</td>\n",
        "    </tr>\n",
        "    <tr>\n",
        "      <th>737</th>\n",
        "      <td> 738</td>\n",
        "      <td> 1</td>\n",
        "      <td> 1</td>\n",
        "      <td>                            Lesurer, Mr. Gustave J</td>\n",
        "      <td>   male</td>\n",
        "      <td> 35</td>\n",
        "      <td> 0</td>\n",
        "      <td> 0</td>\n",
        "      <td> PC 17755</td>\n",
        "      <td> 512.3292</td>\n",
        "      <td>            B101</td>\n",
        "      <td> C</td>\n",
        "    </tr>\n",
        "    <tr>\n",
        "      <th>742</th>\n",
        "      <td> 743</td>\n",
        "      <td> 1</td>\n",
        "      <td> 1</td>\n",
        "      <td>             Ryerson, Miss. Susan Parker \"Suzette\"</td>\n",
        "      <td> female</td>\n",
        "      <td> 21</td>\n",
        "      <td> 2</td>\n",
        "      <td> 2</td>\n",
        "      <td> PC 17608</td>\n",
        "      <td> 262.3750</td>\n",
        "      <td> B57 B59 B63 B66</td>\n",
        "      <td> C</td>\n",
        "    </tr>\n",
        "  </tbody>\n",
        "</table>\n",
        "</div>"
       ],
       "metadata": {},
       "output_type": "pyout",
       "prompt_number": 7,
       "text": [
        "     PassengerId  Survived  Pclass  \\\n",
        "118          119         0       1   \n",
        "258          259         1       1   \n",
        "299          300         1       1   \n",
        "311          312         1       1   \n",
        "377          378         0       1   \n",
        "380          381         1       1   \n",
        "557          558         0       1   \n",
        "679          680         1       1   \n",
        "700          701         1       1   \n",
        "716          717         1       1   \n",
        "737          738         1       1   \n",
        "742          743         1       1   \n",
        "\n",
        "                                                  Name     Sex  Age  SibSp  \\\n",
        "118                           Baxter, Mr. Quigg Edmond    male   24      0   \n",
        "258                                   Ward, Miss. Anna  female   35      0   \n",
        "299    Baxter, Mrs. James (Helene DeLaudeniere Chaput)  female   50      0   \n",
        "311                         Ryerson, Miss. Emily Borie  female   18      2   \n",
        "377                          Widener, Mr. Harry Elkins    male   27      0   \n",
        "380                              Bidois, Miss. Rosalie  female   42      0   \n",
        "557                                Robbins, Mr. Victor    male  NaN      0   \n",
        "679                 Cardeza, Mr. Thomas Drake Martinez    male   36      0   \n",
        "700  Astor, Mrs. John Jacob (Madeleine Talmadge Force)  female   18      1   \n",
        "716                      Endres, Miss. Caroline Louise  female   38      0   \n",
        "737                             Lesurer, Mr. Gustave J    male   35      0   \n",
        "742              Ryerson, Miss. Susan Parker \"Suzette\"  female   21      2   \n",
        "\n",
        "     Parch    Ticket      Fare            Cabin Embarked  \n",
        "118      1  PC 17558  247.5208          B58 B60        C  \n",
        "258      0  PC 17755  512.3292              NaN        C  \n",
        "299      1  PC 17558  247.5208          B58 B60        C  \n",
        "311      2  PC 17608  262.3750  B57 B59 B63 B66        C  \n",
        "377      2    113503  211.5000              C82        C  \n",
        "380      0  PC 17757  227.5250              NaN        C  \n",
        "557      0  PC 17757  227.5250              NaN        C  \n",
        "679      1  PC 17755  512.3292      B51 B53 B55        C  \n",
        "700      0  PC 17757  227.5250          C62 C64        C  \n",
        "716      0  PC 17757  227.5250              C45        C  \n",
        "737      0  PC 17755  512.3292             B101        C  \n",
        "742      2  PC 17608  262.3750  B57 B59 B63 B66        C  "
       ]
      }
     ],
     "prompt_number": 7
    },
    {
     "cell_type": "markdown",
     "metadata": {},
     "source": [
      "### 1. How many men / women were aboard?"
     ]
    },
    {
     "cell_type": "code",
     "collapsed": false,
     "input": [
      "{your code here}"
     ],
     "language": "python",
     "metadata": {},
     "outputs": []
    },
    {
     "cell_type": "markdown",
     "metadata": {},
     "source": [
      "### 2. What is distribution over Pclass?"
     ]
    },
    {
     "cell_type": "code",
     "collapsed": false,
     "input": [
      "{your code here}"
     ],
     "language": "python",
     "metadata": {},
     "outputs": []
    },
    {
     "cell_type": "markdown",
     "metadata": {},
     "source": [
      "### 3. What is the mean fare? Compute it's variation. What is the total fare of all passengers?"
     ]
    },
    {
     "cell_type": "code",
     "collapsed": false,
     "input": [
      "{your code here}"
     ],
     "language": "python",
     "metadata": {},
     "outputs": []
    },
    {
     "cell_type": "markdown",
     "metadata": {},
     "source": [
      "### 4. Is it true that young people survived more often then elder ones?"
     ]
    },
    {
     "cell_type": "code",
     "collapsed": false,
     "input": [
      "{your code here}"
     ],
     "language": "python",
     "metadata": {},
     "outputs": []
    },
    {
     "cell_type": "markdown",
     "metadata": {},
     "source": [
      "### 5. Is it true that women survived more often men?"
     ]
    },
    {
     "cell_type": "code",
     "collapsed": false,
     "input": [
      "{your code here}"
     ],
     "language": "python",
     "metadata": {},
     "outputs": []
    },
    {
     "cell_type": "markdown",
     "metadata": {},
     "source": [
      "### 6. What is the most popular family name between men?"
     ]
    },
    {
     "cell_type": "code",
     "collapsed": false,
     "input": [
      "{your code here}"
     ],
     "language": "python",
     "metadata": {},
     "outputs": []
    },
    {
     "cell_type": "markdown",
     "metadata": {},
     "source": [
      "### 7. Compare the distribution of ticket price of survived passengers and those didn't survive\n",
      "Any ideas about reasons of such difference?"
     ]
    },
    {
     "cell_type": "code",
     "collapsed": false,
     "input": [
      "{your code here}"
     ],
     "language": "python",
     "metadata": {},
     "outputs": []
    },
    {
     "cell_type": "markdown",
     "metadata": {},
     "source": [
      "# You've done everything?\n",
      "Great, now \n",
      "1. Rename this notebook to {your family name}_hometask1, \n",
      "2. Download it with File > download as .ipynb\n",
      "3. Send .ipynb to <a href='mailto:ml.icl@yandex.ru'>ml.icl@yandex.ru</a> (questions/proposals should be sent there as well)"
     ]
    },
    {
     "cell_type": "markdown",
     "metadata": {},
     "source": [
      "# Materials\n",
      "\n",
      "1. <a href='http://nbviewer.ipython.org/gist/rpmuller/5920182'> Crash course in python for scientists </a> <br />\n",
      "Fast introduction in python with IPython notebook\n",
      "\n",
      "2. <a href='http://ipython.org/ipython-doc/dev/interactive/tutorial.html' >Introducing IPython</a> <br />\n",
      "Magic cells of IPython\n",
      "\n",
      "2. <a href='http://nbviewer.ipython.org/github/jvns/talks/blob/master/pyconca2013/pistes-cyclables.ipynb'> Diving into Open Data with IPython Notebook & Pandas </a>\n",
      "\n",
      "3. <a href='http://pandas.pydata.org/pandas-docs/stable/10min.html#min' >10 minutes to pandas</a> from pandas Cookbook\n",
      "\n",
      "5. <a href='http://pandas.pydata.org/pandas-docs/stable/tutorials.html'>Pandas tutorials</a>\n",
      "\n",
      "5. <a href='https://www.flickr.com/photos/30686429@N07/3953914015/in/set-72157622330082619'> Machine learners suggestions </a>"
     ]
    }
   ],
   "metadata": {}
  }
 ]
}