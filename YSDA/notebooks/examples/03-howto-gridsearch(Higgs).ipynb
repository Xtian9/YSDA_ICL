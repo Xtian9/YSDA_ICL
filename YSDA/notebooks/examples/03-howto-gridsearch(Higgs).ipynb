{
 "worksheets": [
  {
   "cells": [
    {
     "cell_type": "markdown",
     "metadata": {},
     "source": [
      "# About\n",
      "\n",
      "This notebook demonstrates several additional tools to optimize classification model provided by __Reproducible experiment platform (REP)__ package:\n",
      "\n",
      "* __grid search for the best classifier hyperparameters__\n",
      "\n",
      "* __different optimization algorithms__ \n",
      "\n",
      "* __different scoring models__ (optimization of arbirtary figure of merit)\n",
      "\n"
     ]
    },
    {
     "cell_type": "code",
     "metadata": {},
     "outputs": [
      {
       "output_type": "stream",
       "stream": "stdout",
       "text": [
        "Populating the interactive namespace from numpy and matplotlib\n"
       ]
      }
     ],
     "input": [
      "%pylab inline"
     ],
     "language": "python",
     "prompt_number": 1
    },
    {
     "cell_type": "markdown",
     "metadata": {},
     "source": [
      "# Loading data for Higgs Boson Challenge"
     ]
    },
    {
     "cell_type": "code",
     "metadata": {},
     "outputs": [
      {
       "output_type": "pyout",
       "prompt_number": 2,
       "text": [
        "['EventId',\n",
        " 'DER_mass_MMC',\n",
        " 'DER_mass_transverse_met_lep',\n",
        " 'DER_mass_vis',\n",
        " 'DER_pt_h',\n",
        " 'DER_deltaeta_jet_jet',\n",
        " 'DER_mass_jet_jet',\n",
        " 'DER_prodeta_jet_jet',\n",
        " 'DER_deltar_tau_lep',\n",
        " 'DER_pt_tot',\n",
        " 'DER_sum_pt',\n",
        " 'DER_pt_ratio_lep_tau',\n",
        " 'DER_met_phi_centrality',\n",
        " 'DER_lep_eta_centrality',\n",
        " 'PRI_tau_pt',\n",
        " 'PRI_tau_eta',\n",
        " 'PRI_tau_phi',\n",
        " 'PRI_lep_pt',\n",
        " 'PRI_lep_eta',\n",
        " 'PRI_lep_phi',\n",
        " 'PRI_met',\n",
        " 'PRI_met_phi',\n",
        " 'PRI_met_sumet',\n",
        " 'PRI_jet_num',\n",
        " 'PRI_jet_leading_pt',\n",
        " 'PRI_jet_leading_eta',\n",
        " 'PRI_jet_leading_phi',\n",
        " 'PRI_jet_subleading_pt',\n",
        " 'PRI_jet_subleading_eta',\n",
        " 'PRI_jet_subleading_phi',\n",
        " 'PRI_jet_all_pt',\n",
        " 'Weight',\n",
        " 'Label']"
       ],
       "metadata": {}
      }
     ],
     "input": [
      "import numpy, pandas\n",
      "from rep.utils import train_test_split\n",
      "from sklearn.metrics import roc_auc_score\n",
      "\n",
      "data = pandas.read_csv('toy_datasets/Higgs.csv', sep='\\t')\n",
      "labels = data['Label'].values\n",
      "labels = labels == 's'\n",
      "sample_weight = data['Weight'].values\n",
      "\n",
      "train_data, test_data, train_labels, test_labels, train_weight, test_weight = train_test_split(data, labels, sample_weight)\n",
      "\n",
      "list(data.columns)"
     ],
     "language": "python",
     "prompt_number": 2
    },
    {
     "cell_type": "markdown",
     "metadata": {},
     "source": [
      "## Variables used in training"
     ]
    },
    {
     "cell_type": "code",
     "metadata": {},
     "outputs": [],
     "input": [
      "features = list(set(data.columns) - set(['Weight', 'Label', 'EventId']))"
     ],
     "language": "python",
     "prompt_number": 3
    },
    {
     "cell_type": "markdown",
     "metadata": {},
     "source": [
      "# Metric definition\n",
      "\n",
      "In Higgs challenge the aim is to maximize `AMS` metrics. <br />\n",
      "To measure the quality one should choose not only classifier, but also an optimal threshold, \n",
      "where the maximal value of `AMS` is achieved.\n",
      "\n",
      "Such metrics (which require a threshold) are called threshold-based.\n",
      "\n",
      "__rep.utils__ contain class __OptimalMetric__, which computes the maximal value for threshold-based metric (and may be used as metric).\n",
      "\n",
      "Use this class to generate metric and use it in grid search."
     ]
    },
    {
     "cell_type": "markdown",
     "metadata": {},
     "source": [
      "## Prepare quality metric\n",
      "\n",
      "first we define AMS metric, and `utils.OptimalMetric` generates "
     ]
    },
    {
     "cell_type": "code",
     "metadata": {},
     "outputs": [],
     "input": [
      "from rep import utils\n",
      "def AMS(s, b, t_s, t_b, s_NORM=692, b_NORM = 410999): \n",
      "    br = 10.0\n",
      "    s = s * s_NORM / t_s  \n",
      "    b = b * b_NORM / t_b\n",
      "    radicand = 2 *( (s+b+br) * numpy.log (1.0 + s/(b+br)) - s)\n",
      "    return numpy.sqrt(radicand)\n",
      "\n",
      "optimal_AMS = utils.OptimalMetric(AMS)"
     ],
     "language": "python",
     "prompt_number": 21
    },
    {
     "cell_type": "markdown",
     "metadata": {},
     "source": [
      "### Compute threshold vs metric quality\n",
      "random predictions for signal and background were used here"
     ]
    },
    {
     "cell_type": "code",
     "metadata": {},
     "outputs": [
      {
       "output_type": "stream",
       "stream": "stdout",
       "text": [
        "Optimal cut=0.0028, quality=1.0813\n"
       ]
      },
      {
       "html": [],
       "text": [
        "<rep.plotting.FunctionsPlot at 0x112946290>"
       ],
       "metadata": {}
      },
      {
       "output_type": "display_data",
       "png": "[encoded data removed]",
       "text": [
        "<matplotlib.figure.Figure at 0x112946390>"
       ],
       "metadata": {}
      }
     ],
     "input": [
      "probs_rand = numpy.ndarray((1000, 2))\n",
      "probs_rand[:, 1] = numpy.random.random(1000)\n",
      "probs_rand[:, 0] = 1 - probs_rand[:, 1]\n",
      "labels_rand = numpy.random.randint(0, high=2, size=1000)\n",
      "\n",
      "optimal_AMS.plot_vs_cut(labels_rand, probs_rand)"
     ],
     "language": "python",
     "prompt_number": 5
    },
    {
     "cell_type": "markdown",
     "metadata": {},
     "source": [
      "### The best quality"
     ]
    },
    {
     "cell_type": "code",
     "metadata": {},
     "outputs": [
      {
       "output_type": "pyout",
       "prompt_number": 6,
       "text": [
        "1.0812732997840353"
       ],
       "metadata": {}
      }
     ],
     "input": [
      "optimal_AMS(labels_rand, probs_rand)"
     ],
     "language": "python",
     "prompt_number": 6
    },
    {
     "cell_type": "markdown",
     "metadata": {},
     "source": [
      "# Hyperparameters optimization algorithms\n",
      "\n",
      "__AbstractParameterGenerator__ is an abstract class to generate new points, where the scorer function will be computed. It is used in grid search to get new set of parameters to train classifier.\n",
      "\n",
      "__Properties__:\n",
      "\n",
      "* `best_params_` - return the best grid point\n",
      "\n",
      "* `best_score_` - return the best quality\n",
      "\n",
      "* `print_results(self, reorder=True)` - print all points with corresponding quality\n",
      "\n",
      "\n",
      "The following algorithms inherit from __AbstractParameterGenerator__:\n",
      "\n",
      "* `RandomParameterOptimizer` -  generates random point in parameters space\n",
      "    \n",
      "* `RegressionParameterOptimizer` - generate next point using regression algorithm, which was trained on previous results\n",
      "    \n",
      "* `SubgridParameterOptimizer` - uses subgrids if grid is huge + annealing-like technique (details see in __REP__)"
     ]
    },
    {
     "cell_type": "markdown",
     "metadata": {},
     "source": [
      "# Grid search"
     ]
    },
    {
     "cell_type": "markdown",
     "metadata": {},
     "source": [
      "__GridOptimalSearchCV__ implemets optimal search over specified parameter values for an estimator. Parameters to use it are:\n",
      "\n",
      "* estimator - object of type that implements the \"fit\" and \"predict\" methods\n",
      "\n",
      "* params_generator - generator of grid search algorithm (AbstractParameterGenerator)\n",
      "\n",
      "* scorer -  which implement method __call__ with kwargs: \"base_estimator\", \"params\", \"X\", \"y\", \"sample_weight\"\n",
      "\n",
      "* Important members are \"fit\", \"fit_best_estimator\""
     ]
    },
    {
     "cell_type": "code",
     "metadata": {},
     "outputs": [
      {
       "output_type": "stream",
       "stream": "stderr",
       "text": [
        "/Users/axelr/ipython/REP/rep_core/rep/data/storage.py:14: UserWarning: The data processing pipeline is unstable and it's probably will be changed in the future.\n",
        "  \"it's probably will be changed in the future.\", UserWarning)\n"
       ]
      }
     ],
     "input": [
      "from rep.metaml import GridOptimalSearchCV\n",
      "from rep.metaml.gridsearch import RandomParameterOptimizer, FoldingScorer\n",
      "from rep.classifiers import SklearnClassifier\n",
      "from sklearn.ensemble import AdaBoostClassifier\n",
      "from collections import OrderedDict"
     ],
     "language": "python",
     "prompt_number": 7
    },
    {
     "cell_type": "markdown",
     "metadata": {},
     "source": [
      "## Grid search with folding scorer\n",
      "\n",
      "__FoldingScorer__ provides folding cross-validation for train dataset:\n",
      "\n",
      "* folds - `k`, number of folds (train on `k-1` fold, test on `1` fold)\n",
      "* folds_check - number of times model will be tested\n",
      "* score_function - function to calculate quality with interface \"function(y_true, proba, sample_weight=None)\"\n",
      "\n",
      "__NOTE__: if fold_checks > 1, the quality is averaged over tests.\n"
     ]
    },
    {
     "cell_type": "code",
     "metadata": {},
     "outputs": [
      {
       "output_type": "pyout",
       "prompt_number": 8,
       "text": [
        "<rep.metaml.gridsearch.GridOptimalSearchCV at 0x114238fd0>"
       ],
       "metadata": {}
      }
     ],
     "input": [
      "# define grid parameters\n",
      "grid_param = OrderedDict()\n",
      "grid_param['n_estimators'] = [10, 20, 30]\n",
      "grid_param['learning_rate'] = [0.1, 0.05]\n",
      "\n",
      "# use random hyperparameter optimization algorithm \n",
      "generator = RandomParameterOptimizer(grid_param)\n",
      "# define folding scorer\n",
      "scorer = FoldingScorer(optimal_AMS, folds=4, fold_checks=2)\n",
      "\n",
      "grid_sk = GridOptimalSearchCV(SklearnClassifier(AdaBoostClassifier(), features=features), generator, scorer)\n",
      "grid_sk.fit(data, labels)"
     ],
     "language": "python",
     "prompt_number": 8
    },
    {
     "cell_type": "markdown",
     "metadata": {},
     "source": [
      "### Print best parameters"
     ]
    },
    {
     "cell_type": "code",
     "metadata": {},
     "outputs": [
      {
       "output_type": "pyout",
       "prompt_number": 9,
       "text": [
        "OrderedDict([('n_estimators', 30), ('learning_rate', 0.1)])"
       ],
       "metadata": {}
      }
     ],
     "input": [
      "grid_sk.generator.best_params_"
     ],
     "language": "python",
     "prompt_number": 9
    },
    {
     "cell_type": "markdown",
     "metadata": {},
     "source": [
      "### Print all qualities for used parameters"
     ]
    },
    {
     "cell_type": "code",
     "metadata": {},
     "outputs": [
      {
       "output_type": "stream",
       "stream": "stdout",
       "text": [
        "2.246:  n_estimators=30, learning_rate=0.1\n",
        "2.106:  n_estimators=20, learning_rate=0.1\n",
        "2.033:  n_estimators=30, learning_rate=0.05\n",
        "1.778:  n_estimators=20, learning_rate=0.05\n",
        "1.772:  n_estimators=10, learning_rate=0.1\n",
        "1.768:  n_estimators=10, learning_rate=0.05\n"
       ]
      }
     ],
     "input": [
      "grid_sk.generator.print_results()"
     ],
     "language": "python",
     "prompt_number": 10
    },
    {
     "cell_type": "markdown",
     "metadata": {},
     "source": [
      "## Grid search with user-defined scorer\n",
      "\n",
      "You can define your own scorer with specific logic by simple way. Scorer must have just the following:\n",
      "\n",
      "* scorer(base_estimator, params, X, y, sample_weight)"
     ]
    },
    {
     "cell_type": "markdown",
     "metadata": {},
     "source": [
      "### Prepare reweight function"
     ]
    },
    {
     "cell_type": "code",
     "metadata": {},
     "outputs": [],
     "input": [
      "def normed_weight(y, weight):\n",
      "    weight[y == 1] *= sum(weight[y == 0]) / sum(weight[y == 1])\n",
      "    return weight"
     ],
     "language": "python",
     "prompt_number": 11
    },
    {
     "cell_type": "markdown",
     "metadata": {},
     "source": [
      "### Define scorer, which will be train model on all dataset and test it on the pre-defined dataset"
     ]
    },
    {
     "cell_type": "code",
     "metadata": {},
     "outputs": [],
     "input": [
      "from sklearn import clone\n",
      "def generate_scorer(test, labels, test_weight=None):\n",
      "    \"\"\" Generate scorer which calculate metric on fixed test dataset \"\"\"\n",
      "    def custom(base_estimator, params, X, y, sample_weight=None):\n",
      "        cl = clone(base_estimator).set_params(**params)\n",
      "        cl.fit(X, y)\n",
      "        res = optimal_AMS(labels, cl.predict_proba(test), sample_weight=test_weight)\n",
      "        return res\n",
      "    return custom"
     ],
     "language": "python",
     "prompt_number": 12
    },
    {
     "cell_type": "code",
     "metadata": {},
     "outputs": [
      {
       "output_type": "pyout",
       "prompt_number": 13,
       "text": [
        "<rep.metaml.gridsearch.GridOptimalSearchCV at 0x11423e210>"
       ],
       "metadata": {}
      }
     ],
     "input": [
      "# define grid parameters\n",
      "grid_param = OrderedDict()\n",
      "grid_param['n_estimators'] = [10, 20, 30]\n",
      "grid_param['learning_rate'] = [0.1, 0.05]\n",
      "grid_param['features'] = [features[:5], features[:10]]\n",
      "\n",
      "# define random hyperparameter optimization algorithm \n",
      "generator = RandomParameterOptimizer(grid_param)\n",
      "# define specific scorer\n",
      "scorer = generate_scorer(test_data, test_labels, test_weight)\n",
      "\n",
      "grid = GridOptimalSearchCV(SklearnClassifier(clf=AdaBoostClassifier(), features=features), generator, scorer)\n",
      "grid.fit(train_data, train_labels, train_weight)"
     ],
     "language": "python",
     "prompt_number": 13
    },
    {
     "cell_type": "code",
     "metadata": {},
     "outputs": [
      {
       "output_type": "pyout",
       "prompt_number": 22,
       "text": [
        "(187500, 62500)"
       ],
       "metadata": {}
      }
     ],
     "input": [
      "len(train_data), len(test_data)"
     ],
     "language": "python",
     "prompt_number": 22
    },
    {
     "cell_type": "markdown",
     "metadata": {},
     "source": [
      "### Print all tried combinations of parameters and quality"
     ]
    },
    {
     "cell_type": "code",
     "metadata": {},
     "outputs": [
      {
       "output_type": "stream",
       "stream": "stdout",
       "text": [
        "1.598:  n_estimators=30, learning_rate=0.1, features=['DER_pt_tot', 'PRI_jet_leading_phi', 'DER_mass_MMC', 'DER_met_phi_centrality', 'DER_prodeta_jet_jet', 'DER_lep_eta_centrality', 'PRI_lep_eta', 'PRI_jet_subleading_phi', 'DER_sum_pt', 'PRI_tau_phi']\n",
        "1.582:  n_estimators=30, learning_rate=0.05, features=['DER_pt_tot', 'PRI_jet_leading_phi', 'DER_mass_MMC', 'DER_met_phi_centrality', 'DER_prodeta_jet_jet']\n",
        "1.582:  n_estimators=20, learning_rate=0.1, features=['DER_pt_tot', 'PRI_jet_leading_phi', 'DER_mass_MMC', 'DER_met_phi_centrality', 'DER_prodeta_jet_jet', 'DER_lep_eta_centrality', 'PRI_lep_eta', 'PRI_jet_subleading_phi', 'DER_sum_pt', 'PRI_tau_phi']\n",
        "1.582:  n_estimators=20, learning_rate=0.1, features=['DER_pt_tot', 'PRI_jet_leading_phi', 'DER_mass_MMC', 'DER_met_phi_centrality', 'DER_prodeta_jet_jet']\n",
        "1.558:  n_estimators=10, learning_rate=0.1, features=['DER_pt_tot', 'PRI_jet_leading_phi', 'DER_mass_MMC', 'DER_met_phi_centrality', 'DER_prodeta_jet_jet', 'DER_lep_eta_centrality', 'PRI_lep_eta', 'PRI_jet_subleading_phi', 'DER_sum_pt', 'PRI_tau_phi']\n",
        "1.558:  n_estimators=10, learning_rate=0.1, features=['DER_pt_tot', 'PRI_jet_leading_phi', 'DER_mass_MMC', 'DER_met_phi_centrality', 'DER_prodeta_jet_jet']\n",
        "1.557:  n_estimators=20, learning_rate=0.05, features=['DER_pt_tot', 'PRI_jet_leading_phi', 'DER_mass_MMC', 'DER_met_phi_centrality', 'DER_prodeta_jet_jet']\n",
        "1.557:  n_estimators=20, learning_rate=0.05, features=['DER_pt_tot', 'PRI_jet_leading_phi', 'DER_mass_MMC', 'DER_met_phi_centrality', 'DER_prodeta_jet_jet', 'DER_lep_eta_centrality', 'PRI_lep_eta', 'PRI_jet_subleading_phi', 'DER_sum_pt', 'PRI_tau_phi']\n",
        "1.376:  n_estimators=10, learning_rate=0.05, features=['DER_pt_tot', 'PRI_jet_leading_phi', 'DER_mass_MMC', 'DER_met_phi_centrality', 'DER_prodeta_jet_jet', 'DER_lep_eta_centrality', 'PRI_lep_eta', 'PRI_jet_subleading_phi', 'DER_sum_pt', 'PRI_tau_phi']\n",
        "1.376:  n_estimators=10, learning_rate=0.05, features=['DER_pt_tot', 'PRI_jet_leading_phi', 'DER_mass_MMC', 'DER_met_phi_centrality', 'DER_prodeta_jet_jet']\n"
       ]
      }
     ],
     "input": [
      "grid.generator.print_results()"
     ],
     "language": "python",
     "prompt_number": 15
    },
    {
     "cell_type": "markdown",
     "metadata": {},
     "source": [
      "# Results comparison "
     ]
    },
    {
     "cell_type": "code",
     "metadata": {},
     "outputs": [],
     "input": [
      "from rep.report import ClassificationReport\n",
      "from rep.data.storage import DataStorageDF, LabeledDataStorage\n",
      "\n",
      "lds = LabeledDataStorage(DataStorageDF(test_data[features]), test_labels, test_weight)\n",
      "classifiers = {'grid_fold': grid_sk.fit_best_estimator(train_data[features], train_labels, train_weight),\n",
      "               'grid_test_dataset': grid.fit_best_estimator(train_data[features], train_labels, train_weight) }\n",
      "\n",
      "report = ClassificationReport(classifiers, lds)"
     ],
     "language": "python",
     "prompt_number": 20
    },
    {
     "cell_type": "markdown",
     "metadata": {},
     "source": [
      "## ROCs"
     ]
    },
    {
     "cell_type": "code",
     "metadata": {},
     "outputs": [
      {
       "output_type": "display_data",
       "png": "[encoded data removed]",
       "text": [
        "<matplotlib.figure.Figure at 0x11014af90>"
       ],
       "metadata": {}
      }
     ],
     "input": [
      "report.roc().plot()"
     ],
     "language": "python",
     "prompt_number": 17
    },
    {
     "cell_type": "markdown",
     "metadata": {},
     "source": [
      "## Metric"
     ]
    },
    {
     "cell_type": "code",
     "metadata": {},
     "outputs": [
      {
       "output_type": "display_data",
       "png": "[encoded data removed]",
       "text": [
        "<matplotlib.figure.Figure at 0x1140d4e10>"
       ],
       "metadata": {}
      }
     ],
     "input": [
      "report.metrics_vs_cut({'AMS': AMS}).plot()"
     ],
     "language": "python",
     "prompt_number": 18
    }
   ]
  }
 ],
 "cells": [],
 "metadata": {
  "name": "",
  "signature": "sha256:323ef83d48e4b4a036e459fbfa62d3d7c64582fc7bc204a96c05ac1694175e8e"
 },
 "nbformat": 3,
 "nbformat_minor": 0
}