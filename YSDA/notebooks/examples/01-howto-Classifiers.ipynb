{
 "metadata": {
  "name": "",
  "signature": "sha256:ba043818a15332230cb1eaed90a33573de71220d5c7e3cc8ef7b4e6bd6861af8"
 },
 "nbformat": 3,
 "nbformat_minor": 0,
 "worksheets": [
  {
   "cells": [
    {
     "cell_type": "markdown",
     "metadata": {},
     "source": [
      "# About \n",
      "\n",
      "This notebook demonstrates classifiers, which are provided by __Reproducible experiment platform (REP)__ package. <br /> REP contains following classifiers\n",
      "* __scikit-learn__\n",
      "* __TMVA__ \n",
      "* __XGBoost__ \n",
      "* __EventFilter__ \n",
      "\n",
      "### In this notebook we show the most simple way to\n",
      "* train classifier\n",
      "* build predictions \n",
      "* measure quality"
     ]
    },
    {
     "cell_type": "markdown",
     "metadata": {},
     "source": [
      "# Loading data"
     ]
    },
    {
     "cell_type": "code",
     "collapsed": false,
     "input": [
      "import numpy, pandas\n",
      "from rep.utils import train_test_split\n",
      "from sklearn.metrics import roc_auc_score\n",
      "\n",
      "sig_data = pandas.read_csv('toy_datasets/toyMC_sig_mass.csv', sep='\\t')\n",
      "bck_data = pandas.read_csv('toy_datasets/toyMC_bck_mass.csv', sep='\\t')\n",
      "\n",
      "labels = numpy.array([1] * len(sig_data) + [0] * len(bck_data))\n",
      "data = pandas.concat([sig_data, bck_data])"
     ],
     "language": "python",
     "metadata": {},
     "outputs": [],
     "prompt_number": 1
    },
    {
     "cell_type": "markdown",
     "metadata": {},
     "source": [
      "### First rows of our data"
     ]
    },
    {
     "cell_type": "code",
     "collapsed": false,
     "input": [
      "data[:5]"
     ],
     "language": "python",
     "metadata": {},
     "outputs": [
      {
       "html": [
        "<div style=\"max-height:1000px;max-width:1500px;overflow:auto;\">\n",
        "<table border=\"1\" class=\"dataframe\">\n",
        "  <thead>\n",
        "    <tr style=\"text-align: right;\">\n",
        "      <th></th>\n",
        "      <th>CDF1</th>\n",
        "      <th>CDF2</th>\n",
        "      <th>CDF3</th>\n",
        "      <th>DOCAone</th>\n",
        "      <th>DOCAthree</th>\n",
        "      <th>DOCAtwo</th>\n",
        "      <th>FlightDistance</th>\n",
        "      <th>FlightDistanceError</th>\n",
        "      <th>Hlt1Dec</th>\n",
        "      <th>Hlt2Dec</th>\n",
        "      <th>...</th>\n",
        "      <th>p1_IP</th>\n",
        "      <th>p1_IPSig</th>\n",
        "      <th>p1_Laura_IsoBDT</th>\n",
        "      <th>p1_pt</th>\n",
        "      <th>p2_IP</th>\n",
        "      <th>p2_IPSig</th>\n",
        "      <th>p2_Laura_IsoBDT</th>\n",
        "      <th>p2_pt</th>\n",
        "      <th>peakingbkg</th>\n",
        "      <th>pt</th>\n",
        "    </tr>\n",
        "  </thead>\n",
        "  <tbody>\n",
        "    <tr>\n",
        "      <th>0</th>\n",
        "      <td> 1.000000</td>\n",
        "      <td> 1.000000</td>\n",
        "      <td> 1.000000</td>\n",
        "      <td> 0.111337</td>\n",
        "      <td> 0.012695</td>\n",
        "      <td> 0.123426</td>\n",
        "      <td> 162.650955</td>\n",
        "      <td> 0.870942</td>\n",
        "      <td> 0</td>\n",
        "      <td> 0</td>\n",
        "      <td>...</td>\n",
        "      <td> 11.314665</td>\n",
        "      <td> 83.196968</td>\n",
        "      <td>-0.223668</td>\n",
        "      <td> 699.066467</td>\n",
        "      <td> 9.799975</td>\n",
        "      <td> 64.790207</td>\n",
        "      <td>-0.121159</td>\n",
        "      <td> 521.628174</td>\n",
        "      <td>NaN</td>\n",
        "      <td>  220.742111</td>\n",
        "    </tr>\n",
        "    <tr>\n",
        "      <th>1</th>\n",
        "      <td> 0.759755</td>\n",
        "      <td> 0.597375</td>\n",
        "      <td> 0.389256</td>\n",
        "      <td> 0.021781</td>\n",
        "      <td> 0.094551</td>\n",
        "      <td> 0.088421</td>\n",
        "      <td>   4.193265</td>\n",
        "      <td> 1.262280</td>\n",
        "      <td> 0</td>\n",
        "      <td> 0</td>\n",
        "      <td>...</td>\n",
        "      <td>  0.720070</td>\n",
        "      <td>  7.237868</td>\n",
        "      <td>-0.256142</td>\n",
        "      <td> 587.628935</td>\n",
        "      <td> 0.882111</td>\n",
        "      <td>  8.834325</td>\n",
        "      <td>-0.203220</td>\n",
        "      <td> 532.679950</td>\n",
        "      <td>NaN</td>\n",
        "      <td>  661.208843</td>\n",
        "    </tr>\n",
        "    <tr>\n",
        "      <th>2</th>\n",
        "      <td> 1.000000</td>\n",
        "      <td> 0.796142</td>\n",
        "      <td> 0.566286</td>\n",
        "      <td> 0.011852</td>\n",
        "      <td> 0.004400</td>\n",
        "      <td> 0.009153</td>\n",
        "      <td>   1.580610</td>\n",
        "      <td> 0.261697</td>\n",
        "      <td> 0</td>\n",
        "      <td> 0</td>\n",
        "      <td>...</td>\n",
        "      <td>  0.362181</td>\n",
        "      <td>  4.173097</td>\n",
        "      <td>-0.252788</td>\n",
        "      <td> 802.746495</td>\n",
        "      <td> 0.427290</td>\n",
        "      <td>  5.008959</td>\n",
        "      <td>-0.409469</td>\n",
        "      <td> 674.122342</td>\n",
        "      <td>NaN</td>\n",
        "      <td> 1290.963982</td>\n",
        "    </tr>\n",
        "    <tr>\n",
        "      <th>3</th>\n",
        "      <td> 0.716397</td>\n",
        "      <td> 0.524712</td>\n",
        "      <td> 0.279033</td>\n",
        "      <td> 0.015171</td>\n",
        "      <td> 0.083900</td>\n",
        "      <td> 0.069127</td>\n",
        "      <td>   7.884569</td>\n",
        "      <td> 1.310151</td>\n",
        "      <td> 0</td>\n",
        "      <td> 0</td>\n",
        "      <td>...</td>\n",
        "      <td>  0.753449</td>\n",
        "      <td>  6.615949</td>\n",
        "      <td>-0.253550</td>\n",
        "      <td> 564.203857</td>\n",
        "      <td> 0.917409</td>\n",
        "      <td>  8.695459</td>\n",
        "      <td>-0.192284</td>\n",
        "      <td> 537.791687</td>\n",
        "      <td>NaN</td>\n",
        "      <td>  692.654175</td>\n",
        "    </tr>\n",
        "    <tr>\n",
        "      <th>4</th>\n",
        "      <td> 1.000000</td>\n",
        "      <td> 0.996479</td>\n",
        "      <td> 0.888159</td>\n",
        "      <td> 0.005547</td>\n",
        "      <td> 0.070438</td>\n",
        "      <td> 0.064689</td>\n",
        "      <td>  -2.267649</td>\n",
        "      <td> 0.139555</td>\n",
        "      <td> 0</td>\n",
        "      <td> 0</td>\n",
        "      <td>...</td>\n",
        "      <td>  0.589455</td>\n",
        "      <td> 21.869143</td>\n",
        "      <td>-0.254778</td>\n",
        "      <td> 746.624928</td>\n",
        "      <td> 0.388996</td>\n",
        "      <td>  8.465344</td>\n",
        "      <td>-0.217319</td>\n",
        "      <td> 988.539221</td>\n",
        "      <td>NaN</td>\n",
        "      <td> 1328.837840</td>\n",
        "    </tr>\n",
        "  </tbody>\n",
        "</table>\n",
        "<p>5 rows \u00d7 40 columns</p>\n",
        "</div>"
       ],
       "metadata": {},
       "output_type": "pyout",
       "prompt_number": 2,
       "text": [
        "       CDF1      CDF2      CDF3   DOCAone  DOCAthree   DOCAtwo  \\\n",
        "0  1.000000  1.000000  1.000000  0.111337   0.012695  0.123426   \n",
        "1  0.759755  0.597375  0.389256  0.021781   0.094551  0.088421   \n",
        "2  1.000000  0.796142  0.566286  0.011852   0.004400  0.009153   \n",
        "3  0.716397  0.524712  0.279033  0.015171   0.083900  0.069127   \n",
        "4  1.000000  0.996479  0.888159  0.005547   0.070438  0.064689   \n",
        "\n",
        "   FlightDistance  FlightDistanceError  Hlt1Dec  Hlt2Dec   ...         p1_IP  \\\n",
        "0      162.650955             0.870942        0        0   ...     11.314665   \n",
        "1        4.193265             1.262280        0        0   ...      0.720070   \n",
        "2        1.580610             0.261697        0        0   ...      0.362181   \n",
        "3        7.884569             1.310151        0        0   ...      0.753449   \n",
        "4       -2.267649             0.139555        0        0   ...      0.589455   \n",
        "\n",
        "    p1_IPSig  p1_Laura_IsoBDT       p1_pt     p2_IP   p2_IPSig  \\\n",
        "0  83.196968        -0.223668  699.066467  9.799975  64.790207   \n",
        "1   7.237868        -0.256142  587.628935  0.882111   8.834325   \n",
        "2   4.173097        -0.252788  802.746495  0.427290   5.008959   \n",
        "3   6.615949        -0.253550  564.203857  0.917409   8.695459   \n",
        "4  21.869143        -0.254778  746.624928  0.388996   8.465344   \n",
        "\n",
        "   p2_Laura_IsoBDT       p2_pt  peakingbkg           pt  \n",
        "0        -0.121159  521.628174         NaN   220.742111  \n",
        "1        -0.203220  532.679950         NaN   661.208843  \n",
        "2        -0.409469  674.122342         NaN  1290.963982  \n",
        "3        -0.192284  537.791687         NaN   692.654175  \n",
        "4        -0.217319  988.539221         NaN  1328.837840  \n",
        "\n",
        "[5 rows x 40 columns]"
       ]
      }
     ],
     "prompt_number": 2
    },
    {
     "cell_type": "markdown",
     "metadata": {},
     "source": [
      "### Splitting into train and test"
     ]
    },
    {
     "cell_type": "code",
     "collapsed": false,
     "input": [
      "# Get train and test data\n",
      "train_data, test_data, train_labels, test_labels = train_test_split(data, labels, train_size=0.5)"
     ],
     "language": "python",
     "metadata": {},
     "outputs": [],
     "prompt_number": 3
    },
    {
     "cell_type": "markdown",
     "metadata": {},
     "source": [
      "# Classifiers\n",
      "\n",
      "All classifiers inherit from __sklearn.BaseEstimator__ and have the following methods:\n",
      "    \n",
      "* `classifier.fit(X, y, sample_weight=None)` - train classifier\n",
      "        \n",
      "* `classifier.predict_proba(X)` - return probabilities vector for all classes\n",
      "\n",
      "* `classifier.predict(X)` - return predicted labels\n",
      "\n",
      "* `classifier.staged_predict_proba(X)` - return probabilities after each iteration (not supported by TMVA)\n",
      "\n",
      "* `classifier.get_feature_importances()`\n",
      "\n",
      "\n",
      "Here we use `X` to denote matrix with data of shape `[n_samples, n_features]`, `y` is vector with labels (0 or 1) of shape [n_samples], <br /> `sample_weight` is vector with weights.\n",
      "\n",
      "\n",
      "## Difference from default scikit-learn interface\n",
      "X should be* `pandas.DataFrame`, `not numpy.array`. <br />\n",
      "Provided this, you'll be able to choose features used in training by setting e.g. `features=['FlightTime', 'p']` in constructor.\n",
      "\n",
      "\\* it works fine with `numpy.array` as well, but in this case all the features will be used."
     ]
    },
    {
     "cell_type": "markdown",
     "metadata": {},
     "source": [
      "# Variables used in training"
     ]
    },
    {
     "cell_type": "code",
     "collapsed": false,
     "input": [
      "variables = [\"FlightDistance\", \"FlightDistanceError\", \"IP\", \"VertexChi2\", \"pt\", \"p0_pt\", \"p1_pt\", \"p2_pt\", 'LifeTime','dira']"
     ],
     "language": "python",
     "metadata": {},
     "outputs": [],
     "prompt_number": 4
    },
    {
     "cell_type": "markdown",
     "metadata": {},
     "source": [
      "# Sklearn\n",
      "wrapper for scikit-learn classifiers. In this example we use GradientBoosting with default settings"
     ]
    },
    {
     "cell_type": "code",
     "collapsed": false,
     "input": [
      "from rep.classifiers import SklearnClassifier\n",
      "from sklearn.ensemble import GradientBoostingClassifier\n",
      "# Using gradient boosting with default settings\n",
      "sk = SklearnClassifier(GradientBoostingClassifier(), features=variables)\n",
      "# Training classifier\n",
      "sk.fit(train_data, train_labels)\n",
      "print('training complete')"
     ],
     "language": "python",
     "metadata": {},
     "outputs": [
      {
       "output_type": "stream",
       "stream": "stdout",
       "text": [
        "training complete\n"
       ]
      }
     ],
     "prompt_number": 5
    },
    {
     "cell_type": "markdown",
     "metadata": {},
     "source": [
      "### Predicting probabilities, measuring the quality"
     ]
    },
    {
     "cell_type": "code",
     "collapsed": false,
     "input": [
      "# predict probabilities for each class\n",
      "prob = sk.predict_proba(test_data)\n",
      "print prob"
     ],
     "language": "python",
     "metadata": {},
     "outputs": [
      {
       "output_type": "stream",
       "stream": "stdout",
       "text": [
        "[[ 0.02026853  0.97973147]\n",
        " [ 0.04480977  0.95519023]\n",
        " [ 0.45063009  0.54936991]\n",
        " ..., \n",
        " [ 0.06459368  0.93540632]\n",
        " [ 0.01398985  0.98601015]\n",
        " [ 0.03665018  0.96334982]]\n"
       ]
      }
     ],
     "prompt_number": 6
    },
    {
     "cell_type": "code",
     "collapsed": false,
     "input": [
      "print 'ROC AUC', roc_auc_score(test_labels, prob[:, 1])"
     ],
     "language": "python",
     "metadata": {},
     "outputs": [
      {
       "output_type": "stream",
       "stream": "stdout",
       "text": [
        "ROC AUC 0.909540418079\n"
       ]
      }
     ],
     "prompt_number": 8
    },
    {
     "cell_type": "markdown",
     "metadata": {},
     "source": [
      "### Predictions of classes"
     ]
    },
    {
     "cell_type": "code",
     "collapsed": false,
     "input": [
      "sk.predict(test_data)"
     ],
     "language": "python",
     "metadata": {},
     "outputs": [
      {
       "metadata": {},
       "output_type": "pyout",
       "prompt_number": 9,
       "text": [
        "array([1, 1, 1, ..., 1, 1, 1])"
       ]
      }
     ],
     "prompt_number": 9
    },
    {
     "cell_type": "code",
     "collapsed": false,
     "input": [
      "sk.get_feature_importances()"
     ],
     "language": "python",
     "metadata": {},
     "outputs": [
      {
       "html": [
        "<div style=\"max-height:1000px;max-width:1500px;overflow:auto;\">\n",
        "<table border=\"1\" class=\"dataframe\">\n",
        "  <thead>\n",
        "    <tr style=\"text-align: right;\">\n",
        "      <th></th>\n",
        "      <th>effect</th>\n",
        "    </tr>\n",
        "  </thead>\n",
        "  <tbody>\n",
        "    <tr>\n",
        "      <th>FlightDistance</th>\n",
        "      <td> 0.012136</td>\n",
        "    </tr>\n",
        "    <tr>\n",
        "      <th>FlightDistanceError</th>\n",
        "      <td> 0.058620</td>\n",
        "    </tr>\n",
        "    <tr>\n",
        "      <th>IP</th>\n",
        "      <td> 0.159804</td>\n",
        "    </tr>\n",
        "    <tr>\n",
        "      <th>VertexChi2</th>\n",
        "      <td> 0.102899</td>\n",
        "    </tr>\n",
        "    <tr>\n",
        "      <th>pt</th>\n",
        "      <td> 0.097638</td>\n",
        "    </tr>\n",
        "    <tr>\n",
        "      <th>p0_pt</th>\n",
        "      <td> 0.065468</td>\n",
        "    </tr>\n",
        "    <tr>\n",
        "      <th>p1_pt</th>\n",
        "      <td> 0.109515</td>\n",
        "    </tr>\n",
        "    <tr>\n",
        "      <th>p2_pt</th>\n",
        "      <td> 0.100722</td>\n",
        "    </tr>\n",
        "    <tr>\n",
        "      <th>LifeTime</th>\n",
        "      <td> 0.128272</td>\n",
        "    </tr>\n",
        "    <tr>\n",
        "      <th>dira</th>\n",
        "      <td> 0.164926</td>\n",
        "    </tr>\n",
        "  </tbody>\n",
        "</table>\n",
        "</div>"
       ],
       "metadata": {},
       "output_type": "pyout",
       "prompt_number": 10,
       "text": [
        "                       effect\n",
        "FlightDistance       0.012136\n",
        "FlightDistanceError  0.058620\n",
        "IP                   0.159804\n",
        "VertexChi2           0.102899\n",
        "pt                   0.097638\n",
        "p0_pt                0.065468\n",
        "p1_pt                0.109515\n",
        "p2_pt                0.100722\n",
        "LifeTime             0.128272\n",
        "dira                 0.164926"
       ]
      }
     ],
     "prompt_number": 10
    },
    {
     "cell_type": "markdown",
     "metadata": {},
     "source": [
      "# EventFilter"
     ]
    },
    {
     "cell_type": "markdown",
     "metadata": {},
     "source": [
      "EventFilter is wrapper around __MatrixNet__ technology developed at Yandex. \n",
      "CERN people can train classifier by using service at https://efilter.cern.ch. \n",
      "\n",
      "The trained classifier is downloaded and stored at your computer, so you can use at any time.\n",
      "\n",
      "    Parameters:\n",
      "    -----------\n",
      "    :param str | None dump_filename: file to dump model\n",
      "    :param str dataset_name: string, name of dataset, which will be used in Event Filter (must be unique)\n",
      "        if None then will be 'dataset_' + session-id\n",
      "    :param None | str formula_name: string, name of formula (info), which will be written in Event Filter\n",
      "        if None then will be 'ClassifierEF'\n",
      "    :param str url_base: url, where Event Filter is situated\n",
      "        (default = 'https://efilter.cern.ch')\n",
      "    :param str user: your user name for login to EF\n",
      "    :param str password: your password for login to EF\n",
      "\n",
      "    :param int iterations: number of constructed trees (default=1000)\n",
      "    :param float regularization: regularization number (default=0.01)\n",
      "    :param float boarder: threshold for labels to divide into 2 classes\n",
      "    :param array baseline: base values for each event\n",
      "    :param int intervals: number of parts for features division (default=64)\n",
      "    :param int max_features_per_iteration: number of features for truth optimization (default=6, do <= 6)\n",
      "    :param float features_sample_rate_per_iteration: training features bagging (default=1.0)\n",
      "    :param float training_fraction: training rows bagging (default=0.5)\n",
      "    :param str command_line_params: if None then using standard parameters, else use it as parameters for EF\n",
      "    :param bool sync: sync or async training on server"
     ]
    },
    {
     "cell_type": "code",
     "collapsed": false,
     "input": [
      "from rep.classifiers import EventFilterClassifier\n",
      "# configuring classifier (please rememeber to change server and authorization credentials)\n",
      "ef = EventFilterClassifier(url_base=\"w80.h.cern.yandex.net\", features=variables, iterations=200, sync=False)\n",
      "# training classifier\n",
      "ef.fit(train_data, train_labels)\n",
      "# pay attention: we set sync=False, so training is asynchronous \n",
      "# we passed the dataset to server and you can do other operations in python when classifier is trained on the server\n",
      "print('asynchronous training started')"
     ],
     "language": "python",
     "metadata": {},
     "outputs": [
      {
       "output_type": "stream",
       "stream": "stdout",
       "text": [
        "asynchronous training started\n"
       ]
      }
     ],
     "prompt_number": 11
    },
    {
     "cell_type": "code",
     "collapsed": false,
     "input": [
      "# Check status of training\n",
      "print 'Is training complete?', ef.trained_status()\n",
      "# Synchronize (wait until the training is complete)\n",
      "ef.synchronize()\n",
      "print 'Is training complete?', ef.trained_status()"
     ],
     "language": "python",
     "metadata": {},
     "outputs": [
      {
       "output_type": "stream",
       "stream": "stdout",
       "text": [
        "Is training complete? False\n",
        "Is training complete?"
       ]
      },
      {
       "output_type": "stream",
       "stream": "stdout",
       "text": [
        " True\n"
       ]
      }
     ],
     "prompt_number": 12
    },
    {
     "cell_type": "markdown",
     "metadata": {},
     "source": [
      "### Predict probabilities and estimate quality"
     ]
    },
    {
     "cell_type": "code",
     "collapsed": false,
     "input": [
      "# predict probabilities for each class\n",
      "prob = ef.predict_proba(test_data)\n",
      "print prob"
     ],
     "language": "python",
     "metadata": {},
     "outputs": [
      {
       "output_type": "stream",
       "stream": "stdout",
       "text": [
        "[[ 0.21696364  0.78303636]\n",
        " [ 0.44711145  0.55288855]\n",
        " [ 0.02619839  0.97380161]\n",
        " ..., \n",
        " [ 0.02656102  0.97343898]\n",
        " [ 0.05259779  0.94740221]\n",
        " [ 0.14091645  0.85908355]]\n"
       ]
      }
     ],
     "prompt_number": 13
    },
    {
     "cell_type": "code",
     "collapsed": false,
     "input": [
      "print 'AUC', roc_auc_score(test_labels, prob[:, 1])"
     ],
     "language": "python",
     "metadata": {},
     "outputs": [
      {
       "output_type": "stream",
       "stream": "stdout",
       "text": [
        "AUC 0.904170479996\n"
       ]
      }
     ],
     "prompt_number": 14
    },
    {
     "cell_type": "markdown",
     "metadata": {},
     "source": [
      "### Predictions of classes"
     ]
    },
    {
     "cell_type": "code",
     "collapsed": false,
     "input": [
      "ef.predict(test_data)"
     ],
     "language": "python",
     "metadata": {},
     "outputs": [
      {
       "metadata": {},
       "output_type": "pyout",
       "prompt_number": 15,
       "text": [
        "array([1, 1, 1, ..., 1, 1, 1])"
       ]
      }
     ],
     "prompt_number": 15
    },
    {
     "cell_type": "code",
     "collapsed": false,
     "input": [
      "ef.get_feature_importances()"
     ],
     "language": "python",
     "metadata": {},
     "outputs": [
      {
       "html": [
        "<div style=\"max-height:1000px;max-width:1500px;overflow:auto;\">\n",
        "<table border=\"1\" class=\"dataframe\">\n",
        "  <thead>\n",
        "    <tr style=\"text-align: right;\">\n",
        "      <th></th>\n",
        "      <th>effect</th>\n",
        "      <th>efficiency</th>\n",
        "      <th>information</th>\n",
        "    </tr>\n",
        "  </thead>\n",
        "  <tbody>\n",
        "    <tr>\n",
        "      <th>FlightDistance</th>\n",
        "      <td> 0.000000</td>\n",
        "      <td> 0.000</td>\n",
        "      <td> 0.935608</td>\n",
        "    </tr>\n",
        "    <tr>\n",
        "      <th>FlightDistanceError</th>\n",
        "      <td> 0.010499</td>\n",
        "      <td> 0.011</td>\n",
        "      <td> 0.946136</td>\n",
        "    </tr>\n",
        "    <tr>\n",
        "      <th>IP</th>\n",
        "      <td> 1.000000</td>\n",
        "      <td> 1.000</td>\n",
        "      <td> 0.963994</td>\n",
        "    </tr>\n",
        "    <tr>\n",
        "      <th>VertexChi2</th>\n",
        "      <td> 0.351328</td>\n",
        "      <td> 0.339</td>\n",
        "      <td> 1.000000</td>\n",
        "    </tr>\n",
        "    <tr>\n",
        "      <th>pt</th>\n",
        "      <td> 0.232415</td>\n",
        "      <td> 0.235</td>\n",
        "      <td> 0.952708</td>\n",
        "    </tr>\n",
        "    <tr>\n",
        "      <th>p0_pt</th>\n",
        "      <td> 0.048349</td>\n",
        "      <td> 0.049</td>\n",
        "      <td> 0.944704</td>\n",
        "    </tr>\n",
        "    <tr>\n",
        "      <th>p1_pt</th>\n",
        "      <td> 0.083544</td>\n",
        "      <td> 0.085</td>\n",
        "      <td> 0.951162</td>\n",
        "    </tr>\n",
        "    <tr>\n",
        "      <th>p2_pt</th>\n",
        "      <td> 0.074162</td>\n",
        "      <td> 0.076</td>\n",
        "      <td> 0.944679</td>\n",
        "    </tr>\n",
        "    <tr>\n",
        "      <th>LifeTime</th>\n",
        "      <td> 0.323902</td>\n",
        "      <td> 0.335</td>\n",
        "      <td> 0.932403</td>\n",
        "    </tr>\n",
        "    <tr>\n",
        "      <th>dira</th>\n",
        "      <td> 0.357831</td>\n",
        "      <td> 0.379</td>\n",
        "      <td> 0.910068</td>\n",
        "    </tr>\n",
        "  </tbody>\n",
        "</table>\n",
        "</div>"
       ],
       "metadata": {},
       "output_type": "pyout",
       "prompt_number": 16,
       "text": [
        "                       effect  efficiency  information\n",
        "FlightDistance       0.000000       0.000     0.935608\n",
        "FlightDistanceError  0.010499       0.011     0.946136\n",
        "IP                   1.000000       1.000     0.963994\n",
        "VertexChi2           0.351328       0.339     1.000000\n",
        "pt                   0.232415       0.235     0.952708\n",
        "p0_pt                0.048349       0.049     0.944704\n",
        "p1_pt                0.083544       0.085     0.951162\n",
        "p2_pt                0.074162       0.076     0.944679\n",
        "LifeTime             0.323902       0.335     0.932403\n",
        "dira                 0.357831       0.379     0.910068"
       ]
      }
     ],
     "prompt_number": 16
    },
    {
     "cell_type": "markdown",
     "metadata": {},
     "source": [
      "## TMVA"
     ]
    },
    {
     "cell_type": "markdown",
     "metadata": {},
     "source": [
      "__TMVAClassifier__ wraps classifiers from TMVA (CERN library for machine learning)\n",
      "\n",
      "    Parameters:\n",
      "    -----------\n",
      "    :param str method: algorithm method (default='kBDT')\n",
      "    :param list(str) | None features: features used in training\n",
      "    :param str factory_options: default=\"!V:!Silent:Color:Transformations=I;D;P;G,D:AnalysisType=Classification\"\n",
      "    :param kwargs: other parameters passed as key=value.\n",
      "\n",
      "TMVA __doesn't__ support `staged_predict_proba`"
     ]
    },
    {
     "cell_type": "code",
     "collapsed": false,
     "input": [
      "from rep.classifiers import TMVAClassifier"
     ],
     "language": "python",
     "metadata": {},
     "outputs": [],
     "prompt_number": 17
    },
    {
     "cell_type": "code",
     "collapsed": false,
     "input": [
      "tmva = TMVAClassifier(method='kBDT', NTrees=50, Shrinkage=0.05, features=variables)\n",
      "tmva.fit(train_data, train_labels)\n",
      "print('training complete')"
     ],
     "language": "python",
     "metadata": {},
     "outputs": [
      {
       "output_type": "stream",
       "stream": "stdout",
       "text": [
        "training complete\n"
       ]
      }
     ],
     "prompt_number": 18
    },
    {
     "cell_type": "markdown",
     "metadata": {},
     "source": [
      "### Predict probabilities and estimate quality"
     ]
    },
    {
     "cell_type": "code",
     "collapsed": false,
     "input": [
      "# predict probabilities for each class\n",
      "prob = tmva.predict_proba(test_data)\n",
      "print prob"
     ],
     "language": "python",
     "metadata": {},
     "outputs": [
      {
       "output_type": "stream",
       "stream": "stdout",
       "text": [
        "[[ 0.61576997  0.38423003]\n",
        " [ 0.62659485  0.37340515]\n",
        " [ 0.23883135  0.76116865]\n",
        " ..., \n",
        " [ 0.17364764  0.82635236]\n",
        " [ 0.277721    0.722279  ]\n",
        " [ 0.48026341  0.51973659]]\n"
       ]
      }
     ],
     "prompt_number": 19
    },
    {
     "cell_type": "code",
     "collapsed": false,
     "input": [
      "print 'AUC', roc_auc_score(test_labels, prob[:, 1])"
     ],
     "language": "python",
     "metadata": {},
     "outputs": [
      {
       "output_type": "stream",
       "stream": "stdout",
       "text": [
        "AUC 0.901785392912\n"
       ]
      }
     ],
     "prompt_number": 20
    },
    {
     "cell_type": "code",
     "collapsed": false,
     "input": [
      "# predict labels\n",
      "tmva.predict(test_data)"
     ],
     "language": "python",
     "metadata": {},
     "outputs": [
      {
       "metadata": {},
       "output_type": "pyout",
       "prompt_number": 21,
       "text": [
        "array([0, 0, 1, ..., 1, 1, 1])"
       ]
      }
     ],
     "prompt_number": 21
    },
    {
     "cell_type": "markdown",
     "metadata": {},
     "source": [
      "## XGBoost"
     ]
    },
    {
     "cell_type": "markdown",
     "metadata": {},
     "source": [
      "XGBoost is open-source library with fast gradient boosting over decision trees.\n",
      "    Parameters:\n",
      "    -----------\n",
      "    :param list(str) features: list of features to train model\n",
      "\n",
      "    :param n_estimators: the number of round for boosting.\n",
      "\n",
      "    :param nthreads: number of parallel threads used to run xgboost.\n",
      "\n",
      "    :param num_feature: feature dimension used in boosting, set to maximum dimension of the feature\n",
      "    (set automatically by xgboost, no need to be set by user).\n",
      "\n",
      "    :param gamma: minimum loss reduction required to make a further partition on a leaf node of the tree.\n",
      "     The larger, the more conservative the algorithm will be.\n",
      "\n",
      "    :param eta: step size shrinkage used in update to prevents overfitting.\n",
      "    After each boosting step, we can directly get the weights of new features\n",
      "     and eta actually shrinkage the feature weights to make the boosting process more conservative.\n",
      "\n",
      "    :param max_depth: maximum depth of a tree.\n",
      "\n",
      "    :params scale_pos_weight: ration of weights of the class 1 to the weights of the class 0.\n",
      "\n",
      "    :param min_child_weight: minimum sum of instance weight(hessian) needed in a child.\n",
      "    If the tree partition step results in a leaf node with the sum of instance weight less than min_child_weight,\n",
      "    then the building process will give up further partitioning.\n",
      "    In linear regression mode, this simply corresponds to minimum number of instances needed to be in each node.\n",
      "    The larger, the more conservative the algorithm will be.\n",
      "\n",
      "    :param subsample: subsample ratio of the training instance.\n",
      "    Setting it to 0.5 means that XGBoost randomly collected half of the data instances to grow trees\n",
      "        and this will prevent overfitting.\n",
      "\n",
      "    :param colsample: subsample ratio of columns when constructing each tree.\n",
      "\n",
      "    :param objective: specify the learning task and the corresponding learning objective, and the options are below:\n",
      "    \"reg:linear\" --linear regression\n",
      "    \"reg:logistic\" --logistic regression\n",
      "    \"binary:logistic\" --logistic regression for binary classification, output probability\n",
      "    \"binary:logitraw\" --logistic regression for binary classification, output score before logistic transformation\n",
      "    \"multi:softmax\" --set XGBoost to do multiclass classification using the softmax objective, you also need to\n",
      "        set num_class(number of classes)\n",
      "    \"multi:softprob\" --same as softmax, but output a vector of ndata * nclass, which can be further reshaped to ndata,\n",
      "        nclass matrix. The result contains predicted probability of each data point belonging to each class.\n",
      "    \"rank:pairwise\" --set XGBoost to do ranking task by minimizing the pairwise loss\n",
      "\n",
      "    :param base_score: the initial prediction score of all instances, global bias.\n",
      "\n",
      "    :param random_state: random number seed.\n",
      "\n",
      "    :param verbose: if 1, will print messages during training\n",
      "\n",
      "    :param missing: the number considered by xgboost as missing value."
     ]
    },
    {
     "cell_type": "code",
     "collapsed": false,
     "input": [
      "from rep.classifiers import XGBoostClassifier\n",
      "# XGBoost with default parameters\n",
      "xgb = XGBoostClassifier(features=variables)\n",
      "xgb.fit(train_data, train_labels, sample_weight=numpy.ones(len(train_labels)))\n",
      "print('training complete')"
     ],
     "language": "python",
     "metadata": {},
     "outputs": [
      {
       "output_type": "stream",
       "stream": "stdout",
       "text": [
        "training complete\n"
       ]
      }
     ],
     "prompt_number": 22
    },
    {
     "cell_type": "markdown",
     "metadata": {},
     "source": [
      "### Predict probabilities and estimate quality"
     ]
    },
    {
     "cell_type": "code",
     "collapsed": false,
     "input": [
      "prob = xgb.predict_proba(test_data)\n",
      "print 'ROC AUC:', roc_auc_score(test_labels, prob[:, 1])"
     ],
     "language": "python",
     "metadata": {},
     "outputs": [
      {
       "output_type": "stream",
       "stream": "stdout",
       "text": [
        "ROC AUC: 0.92194700136\n"
       ]
      }
     ],
     "prompt_number": 23
    },
    {
     "cell_type": "markdown",
     "metadata": {},
     "source": [
      "### Predict labels"
     ]
    },
    {
     "cell_type": "code",
     "collapsed": false,
     "input": [
      "xgb.predict(test_data)"
     ],
     "language": "python",
     "metadata": {},
     "outputs": [
      {
       "metadata": {},
       "output_type": "pyout",
       "prompt_number": 24,
       "text": [
        "array([1, 1, 1, ..., 1, 1, 1])"
       ]
      }
     ],
     "prompt_number": 24
    },
    {
     "cell_type": "code",
     "collapsed": false,
     "input": [
      "xgb.get_feature_importances()"
     ],
     "language": "python",
     "metadata": {},
     "outputs": [
      {
       "html": [
        "<div style=\"max-height:1000px;max-width:1500px;overflow:auto;\">\n",
        "<table border=\"1\" class=\"dataframe\">\n",
        "  <thead>\n",
        "    <tr style=\"text-align: right;\">\n",
        "      <th></th>\n",
        "      <th>effect</th>\n",
        "    </tr>\n",
        "  </thead>\n",
        "  <tbody>\n",
        "    <tr>\n",
        "      <th>FlightDistance</th>\n",
        "      <td> 444</td>\n",
        "    </tr>\n",
        "    <tr>\n",
        "      <th>FlightDistanceError</th>\n",
        "      <td> 410</td>\n",
        "    </tr>\n",
        "    <tr>\n",
        "      <th>IP</th>\n",
        "      <td> 482</td>\n",
        "    </tr>\n",
        "    <tr>\n",
        "      <th>VertexChi2</th>\n",
        "      <td> 427</td>\n",
        "    </tr>\n",
        "    <tr>\n",
        "      <th>pt</th>\n",
        "      <td> 517</td>\n",
        "    </tr>\n",
        "    <tr>\n",
        "      <th>p0_pt</th>\n",
        "      <td> 423</td>\n",
        "    </tr>\n",
        "    <tr>\n",
        "      <th>p1_pt</th>\n",
        "      <td> 528</td>\n",
        "    </tr>\n",
        "    <tr>\n",
        "      <th>p2_pt</th>\n",
        "      <td> 499</td>\n",
        "    </tr>\n",
        "    <tr>\n",
        "      <th>LifeTime</th>\n",
        "      <td> 176</td>\n",
        "    </tr>\n",
        "    <tr>\n",
        "      <th>dira</th>\n",
        "      <td> 143</td>\n",
        "    </tr>\n",
        "  </tbody>\n",
        "</table>\n",
        "</div>"
       ],
       "metadata": {},
       "output_type": "pyout",
       "prompt_number": 25,
       "text": [
        "                     effect\n",
        "FlightDistance          444\n",
        "FlightDistanceError     410\n",
        "IP                      482\n",
        "VertexChi2              427\n",
        "pt                      517\n",
        "p0_pt                   423\n",
        "p1_pt                   528\n",
        "p2_pt                   499\n",
        "LifeTime                176\n",
        "dira                    143"
       ]
      }
     ],
     "prompt_number": 25
    },
    {
     "cell_type": "markdown",
     "metadata": {},
     "source": [
      "# Advantages of common interface"
     ]
    },
    {
     "cell_type": "markdown",
     "metadata": {},
     "source": [
      "As one can see above, all the classifiers implement the same interface, \n",
      "this simplifies work, simplifies comparison of different classifiers, \n",
      "but this is not the only profit. \n",
      "\n",
      "`Sklearn` provides different tools to combine different classifiers and transformers. \n",
      "One of this tools is `AdaBoost`, which is abstract metaclassifier built on the top of some other classifier (usually, decision dree)\n",
      "\n",
      "Let's show that now you can run AdaBoost over classifiers from other libraries! <br />\n",
      "_(isn't boosting over neural network what you were dreaming of all your life?)_"
     ]
    },
    {
     "cell_type": "markdown",
     "metadata": {},
     "source": [
      "## AdaBoost over TMVA classifier"
     ]
    },
    {
     "cell_type": "code",
     "collapsed": false,
     "input": [
      "from sklearn.ensemble import AdaBoostClassifier\n",
      "\n",
      "# Construct AdaBoost with TMVA as base estimator\n",
      "base_tmva = TMVAClassifier(method='kBDT', NTrees=15, Shrinkage=0.05)\n",
      "ada_tmva  = SklearnClassifier(AdaBoostClassifier(base_estimator=base_tmva, n_estimators=5), features=variables)\n",
      "ada_tmva.fit(train_data, train_labels)\n",
      "print('training complete')"
     ],
     "language": "python",
     "metadata": {},
     "outputs": [
      {
       "output_type": "stream",
       "stream": "stdout",
       "text": [
        "training complete\n"
       ]
      }
     ],
     "prompt_number": 26
    },
    {
     "cell_type": "code",
     "collapsed": false,
     "input": [
      "prob = ada_tmva.predict_proba(test_data)\n",
      "print 'AUC', roc_auc_score(test_labels, prob[:, 1])"
     ],
     "language": "python",
     "metadata": {},
     "outputs": [
      {
       "output_type": "stream",
       "stream": "stdout",
       "text": [
        "AUC 0.887296099929\n"
       ]
      }
     ],
     "prompt_number": 27
    },
    {
     "cell_type": "markdown",
     "metadata": {},
     "source": [
      "## AdaBoost over XGBoost"
     ]
    },
    {
     "cell_type": "code",
     "collapsed": false,
     "input": [
      "# Construct AdaBoost with xgboost base estimator\n",
      "base_xgb = XGBoostClassifier(n_estimators=50)\n",
      "# ada_xgb = SklearnClassifier(AdaBoostClassifier(base_estimator=base_xgb, n_estimators=1), features=variables)\n",
      "ada_xgb = AdaBoostClassifier(base_estimator=base_xgb, n_estimators=1)\n",
      "ada_xgb.fit(train_data[variables], train_labels)\n",
      "print('training complete!')"
     ],
     "language": "python",
     "metadata": {},
     "outputs": [
      {
       "output_type": "stream",
       "stream": "stdout",
       "text": [
        "training complete!\n"
       ]
      }
     ],
     "prompt_number": 28
    },
    {
     "cell_type": "code",
     "collapsed": false,
     "input": [
      "# predict probabilities for each class\n",
      "prob = ada_xgb.predict_proba(test_data[variables])\n",
      "print 'AUC', roc_auc_score(test_labels, prob[:, 1])"
     ],
     "language": "python",
     "metadata": {},
     "outputs": [
      {
       "output_type": "stream",
       "stream": "stdout",
       "text": [
        "AUC 0.5\n"
       ]
      }
     ],
     "prompt_number": 29
    },
    {
     "cell_type": "code",
     "collapsed": false,
     "input": [
      "# predict probabilities for each class\n",
      "prob = ada_xgb.predict_proba(train_data[variables])\n",
      "print 'AUC', roc_auc_score(train_labels, prob[:, 1])"
     ],
     "language": "python",
     "metadata": {},
     "outputs": [
      {
       "output_type": "stream",
       "stream": "stdout",
       "text": [
        "AUC 0.5\n"
       ]
      }
     ],
     "prompt_number": 30
    },
    {
     "cell_type": "markdown",
     "metadata": {},
     "source": [
      "## AdaBoost over EventFilter"
     ]
    },
    {
     "cell_type": "code",
     "collapsed": false,
     "input": [
      "# Construct AdaBoost with xgboost base estimator\n",
      "base_ef = EventFilterClassifier(url_base=\"w80.h.cern.yandex.net\", iterations=50)\n",
      "ada_ef =  SklearnClassifier(AdaBoostClassifier(base_estimator=base_ef, n_estimators=5), features=variables)\n",
      "ada_ef.fit(train_data, train_labels)\n",
      "print('training complete')"
     ],
     "language": "python",
     "metadata": {},
     "outputs": [
      {
       "output_type": "stream",
       "stream": "stdout",
       "text": [
        "training complete\n"
       ]
      }
     ],
     "prompt_number": 31
    },
    {
     "cell_type": "code",
     "collapsed": false,
     "input": [
      "prob = ada_ef.predict_proba(test_data)\n",
      "print 'ROC AUC:', roc_auc_score(test_labels, prob[:, 1])"
     ],
     "language": "python",
     "metadata": {},
     "outputs": [
      {
       "output_type": "stream",
       "stream": "stdout",
       "text": [
        "ROC AUC: 0.906578201421\n"
       ]
      }
     ],
     "prompt_number": 32
    },
    {
     "cell_type": "markdown",
     "metadata": {},
     "source": [
      "# Other advantages of common interface\n",
      "There are many things you can do with classifiers now: \n",
      "* cloning\n",
      "* getting / setting parameters as dictionaries \n",
      "* do automatic hyperparameter optimization \n",
      "* build pipelines (`sklearn.pipeline`)\n",
      "* use hierarchical training, training on subsets\n",
      "* passing over internet / train classifiers on other machines\n",
      "\n",
      "And you can replace classifiers at any moment."
     ]
    },
    {
     "cell_type": "markdown",
     "metadata": {},
     "source": [
      "# Exercises\n",
      "\n",
      "### Exercise 1. Play with parameters in each type of classifiers\n",
      "\n",
      "### Exercise 2. Add weight column and train models with weights in training"
     ]
    }
   ],
   "metadata": {}
  }
 ]
}